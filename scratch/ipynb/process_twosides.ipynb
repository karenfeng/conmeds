{
 "cells": [
  {
   "cell_type": "code",
   "execution_count": 1,
   "id": "6bc3511b",
   "metadata": {},
   "outputs": [],
   "source": [
    "import numpy as np\n",
    "import pandas as pd"
   ]
  },
  {
   "cell_type": "code",
   "execution_count": 2,
   "id": "7a6f0366",
   "metadata": {},
   "outputs": [],
   "source": [
    "twosides_df = pd.read_csv('../data/conmed_example_data_with_twosides.csv')"
   ]
  },
  {
   "cell_type": "code",
   "execution_count": 3,
   "id": "dfd03e33",
   "metadata": {},
   "outputs": [],
   "source": [
    "twosides_df['condition_concept_name'] = twosides_df['condition_concept_name'].apply(\n",
    "    lambda x: x.split(';') if x else [''])\n",
    "indiv = twosides_df.groupby('ID').agg({'condition_concept_name': sum})\n",
    "indiv['condition_concept_name'] = indiv['condition_concept_name'].apply(set)\n",
    "pool = indiv['condition_concept_name'].explode()\n",
    "pool_counts = pool.value_counts()"
   ]
  },
  {
   "cell_type": "code",
   "execution_count": 4,
   "id": "d397158a",
   "metadata": {},
   "outputs": [],
   "source": [
    "pd.DataFrame.from_dict(pool_counts).to_csv(\n",
    "    '../data/conmed_example_data_by_patient_twosides.csv', header=False)"
   ]
  }
 ],
 "metadata": {
  "kernelspec": {
   "display_name": "Python 3 (ipykernel)",
   "language": "python",
   "name": "python3"
  },
  "language_info": {
   "codemirror_mode": {
    "name": "ipython",
    "version": 3
   },
   "file_extension": ".py",
   "mimetype": "text/x-python",
   "name": "python",
   "nbconvert_exporter": "python",
   "pygments_lexer": "ipython3",
   "version": "3.9.12"
  }
 },
 "nbformat": 4,
 "nbformat_minor": 5
}
