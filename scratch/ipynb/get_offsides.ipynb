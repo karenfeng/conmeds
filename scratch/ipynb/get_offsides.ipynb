{
 "cells": [
  {
   "cell_type": "code",
   "execution_count": 1,
   "id": "db1cb2d0",
   "metadata": {},
   "outputs": [],
   "source": [
    "import numpy as np\n",
    "import pandas as pd"
   ]
  },
  {
   "cell_type": "code",
   "execution_count": 2,
   "id": "4265fac3",
   "metadata": {},
   "outputs": [],
   "source": [
    "offsides = pd.read_csv('../OFFSIDES.csv', low_memory=False)[[\n",
    "    'drug_rxnorn_id', 'condition_concept_name', 'PRR', 'PRR_error']]\n",
    "offsides = offsides[offsides['PRR'] - offsides['PRR_error'] > 1]\n",
    "offsides = offsides.groupby(\n",
    "    'drug_rxnorn_id')['condition_concept_name'].apply(set).apply(';'.join).reset_index()\n",
    "offsides['drug_rxnorn_id'] = [\n",
    "    str(int(rxcui)) if rxcui else None for rxcui in offsides['drug_rxnorn_id']]"
   ]
  },
  {
   "cell_type": "code",
   "execution_count": 3,
   "id": "766e7b73",
   "metadata": {},
   "outputs": [],
   "source": [
    "input_df = pd.read_csv(\n",
    "    '../data/conmed_example_data_with_best_rxcuid.csv',\n",
    "    index_col=0).fillna(np.nan).replace([np.nan], [None])"
   ]
  },
  {
   "cell_type": "code",
   "execution_count": 4,
   "id": "0132c483",
   "metadata": {},
   "outputs": [],
   "source": [
    "input_df['Best RxNorm Id'] = [\n",
    "    str(int(rxcui)) if rxcui else None for rxcui in input_df['Best RxNorm Id']]"
   ]
  },
  {
   "cell_type": "code",
   "execution_count": 5,
   "id": "c1796349",
   "metadata": {},
   "outputs": [],
   "source": [
    "output_df = input_df.merge(\n",
    "    offsides,\n",
    "    how='left',\n",
    "    left_on='Best RxNorm Id',\n",
    "    right_on='drug_rxnorn_id')"
   ]
  },
  {
   "cell_type": "code",
   "execution_count": 6,
   "id": "e9177f21",
   "metadata": {},
   "outputs": [],
   "source": [
    "output_df.to_csv('../data/conmed_example_data_with_offsides.csv')"
   ]
  }
 ],
 "metadata": {
  "kernelspec": {
   "display_name": "Python 3 (ipykernel)",
   "language": "python",
   "name": "python3"
  },
  "language_info": {
   "codemirror_mode": {
    "name": "ipython",
    "version": 3
   },
   "file_extension": ".py",
   "mimetype": "text/x-python",
   "name": "python",
   "nbconvert_exporter": "python",
   "pygments_lexer": "ipython3",
   "version": "3.9.12"
  }
 },
 "nbformat": 4,
 "nbformat_minor": 5
}
