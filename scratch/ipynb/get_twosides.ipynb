{
 "cells": [
  {
   "cell_type": "code",
   "execution_count": null,
   "id": "359c4a11",
   "metadata": {},
   "outputs": [],
   "source": [
    "# Author: Karen Feng"
   ]
  },
  {
   "cell_type": "code",
   "execution_count": 1,
   "id": "115f5af1",
   "metadata": {},
   "outputs": [],
   "source": [
    "from itertools import permutations\n",
    "import numpy as np\n",
    "import pandas as pd"
   ]
  },
  {
   "cell_type": "code",
   "execution_count": 2,
   "id": "816f99a3",
   "metadata": {},
   "outputs": [],
   "source": [
    "twosides = pd.read_csv(\n",
    "    '../TWOSIDES.csv',\n",
    "    header=0,\n",
    "    usecols=[\n",
    "        'drug_1_rxnorn_id',\n",
    "        'drug_2_rxnorm_id',\n",
    "        'condition_concept_name',\n",
    "        'PRR',\n",
    "        'PRR_error'],\n",
    "    dtype={\n",
    "        'drug_1_rxnorn_id': str,\n",
    "        'drug_1_concept_name': str,\n",
    "        'drug_2_rxnorm_id': str,\n",
    "        'drug_2_concept_name': str,\n",
    "        'condition_meddra_id': str,\n",
    "        'condition_concept_name': str,\n",
    "        'A': int,\n",
    "        'B': int,\n",
    "        'C': int,\n",
    "        'D': int,\n",
    "        'PRR': float,\n",
    "        'PRR_error': float,\n",
    "        'mean_reporting_frequency': float})"
   ]
  },
  {
   "cell_type": "code",
   "execution_count": 3,
   "id": "54fbc073",
   "metadata": {},
   "outputs": [],
   "source": [
    "input_df = pd.read_csv(\n",
    "    '../data/conmed_example_data_with_best_rxcuid.csv',\n",
    "    index_col=0, dtype={'Best RxNorm Id': str}).fillna(np.nan).replace([np.nan], [None])"
   ]
  },
  {
   "cell_type": "code",
   "execution_count": 4,
   "id": "99c58f15",
   "metadata": {},
   "outputs": [],
   "source": [
    "all_drugs = input_df.groupby('ID')['Best RxNorm Id'].apply(set).apply(list)"
   ]
  },
  {
   "cell_type": "code",
   "execution_count": 5,
   "id": "e16bf280",
   "metadata": {},
   "outputs": [],
   "source": [
    "all_pairs = all_drugs.apply(lambda x: list(permutations([l for l in x if l], 2)))\n",
    "all_pairs = pd.DataFrame(all_pairs).explode('Best RxNorm Id').reset_index(drop=False)"
   ]
  },
  {
   "cell_type": "code",
   "execution_count": 6,
   "id": "dbb46f00",
   "metadata": {},
   "outputs": [],
   "source": [
    "all_pairs['drug_1_rxnorn_id'] = all_pairs['Best RxNorm Id'].str[0]\n",
    "all_pairs['drug_2_rxnorm_id'] = all_pairs['Best RxNorm Id'].str[1]"
   ]
  },
  {
   "cell_type": "code",
   "execution_count": 7,
   "id": "cc2db14a",
   "metadata": {},
   "outputs": [],
   "source": [
    "pair_effects = all_pairs.merge(twosides, how='inner', on=['drug_1_rxnorn_id', 'drug_2_rxnorm_id'])"
   ]
  },
  {
   "cell_type": "code",
   "execution_count": 8,
   "id": "33a134a5",
   "metadata": {},
   "outputs": [],
   "source": [
    "pair_effects = pair_effects[pair_effects['PRR'] - pair_effects['PRR_error'] > 1]"
   ]
  },
  {
   "cell_type": "code",
   "execution_count": 9,
   "id": "f22781d1",
   "metadata": {},
   "outputs": [],
   "source": [
    "output_df = pair_effects.groupby('ID')['condition_concept_name'].apply(\n",
    "    set).apply(';'.join).reset_index()"
   ]
  },
  {
   "cell_type": "code",
   "execution_count": 10,
   "id": "63540771",
   "metadata": {},
   "outputs": [],
   "source": [
    "output_df.to_csv('../data/conmed_example_data_with_twosides.csv', index=False)"
   ]
  }
 ],
 "metadata": {
  "kernelspec": {
   "display_name": "Python 3 (ipykernel)",
   "language": "python",
   "name": "python3"
  },
  "language_info": {
   "codemirror_mode": {
    "name": "ipython",
    "version": 3
   },
   "file_extension": ".py",
   "mimetype": "text/x-python",
   "name": "python",
   "nbconvert_exporter": "python",
   "pygments_lexer": "ipython3",
   "version": "3.9.12"
  }
 },
 "nbformat": 4,
 "nbformat_minor": 5
}
