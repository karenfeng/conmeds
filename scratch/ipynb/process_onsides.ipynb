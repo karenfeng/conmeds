{
 "cells": [
  {
   "cell_type": "code",
   "execution_count": null,
   "id": "e8394b76",
   "metadata": {},
   "outputs": [],
   "source": [
    "# Author: Karen Feng"
   ]
  },
  {
   "cell_type": "code",
   "execution_count": 1,
   "id": "06ad7853",
   "metadata": {},
   "outputs": [],
   "source": [
    "import numpy as np\n",
    "import pandas as pd"
   ]
  },
  {
   "cell_type": "code",
   "execution_count": 7,
   "id": "ad657c78",
   "metadata": {},
   "outputs": [],
   "source": [
    "onsides_df = pd.read_csv(\n",
    "    '../data/conmed_example_data_with_onsides.csv',\n",
    "    index_col=0).fillna(np.nan).replace([np.nan], [None])"
   ]
  },
  {
   "cell_type": "code",
   "execution_count": 8,
   "id": "c9f0dc71",
   "metadata": {},
   "outputs": [],
   "source": [
    "col_counts = dict()\n",
    "for colname in ['adverse_reactions', 'boxed_warnings']:\n",
    "    onsides_df[colname] = onsides_df[colname].apply(\n",
    "        lambda x: x.split(';') if x else [''])\n",
    "    indiv = onsides_df.groupby('ID').agg({colname: sum})\n",
    "    indiv[colname] = indiv[colname].apply(set)\n",
    "    pool = indiv[colname].explode()\n",
    "    pool_counts = pool.value_counts()\n",
    "    pool_counts = pool_counts.drop('')\n",
    "    col_counts[colname] = pool_counts"
   ]
  },
  {
   "cell_type": "code",
   "execution_count": 9,
   "id": "5f4e270a",
   "metadata": {},
   "outputs": [
    {
     "data": {
      "text/plain": [
       "{'adverse_reactions': Nausea               34\n",
       " Headache             34\n",
       " Rash                 32\n",
       " Dizziness            31\n",
       " Vomiting             31\n",
       "                      ..\n",
       " Sudden death          1\n",
       " Feeling cold          1\n",
       " Hangover              1\n",
       " Otitis externa        1\n",
       " Oculogyric crisis     1\n",
       " Name: adverse_reactions, Length: 998, dtype: int64,\n",
       " 'boxed_warnings': Cerebrovascular accident        12\n",
       " Myocardial infarction           10\n",
       " Death                           10\n",
       " Gastrointestinal haemorrhage     9\n",
       " Haemorrhage                      9\n",
       " Dehydration                      5\n",
       " Respiratory distress             5\n",
       " Lactic acidosis                  5\n",
       " Somnolence                       5\n",
       " Hypothermia                      5\n",
       " Renal ischaemia                  5\n",
       " Hepatic function abnormal        5\n",
       " Metabolic acidosis               5\n",
       " Abdominal pain                   5\n",
       " Malaise                          5\n",
       " Cardiac failure                  5\n",
       " Hypotension                      5\n",
       " Renal impairment                 5\n",
       " Hypersensitivity                 3\n",
       " Weight decreased                 3\n",
       " Abnormal behaviour               3\n",
       " Depression                       3\n",
       " Laryngospasm                     3\n",
       " Bronchospasm                     3\n",
       " Hallucination, visual            3\n",
       " Accidental overdose              2\n",
       " Acute hepatic failure            2\n",
       " Liver injury                     2\n",
       " Liver transplant                 2\n",
       " Hepatotoxicity                   2\n",
       " Cardiac failure congestive       1\n",
       " Dyspnoea                         1\n",
       " Breast cancer                    1\n",
       " Endometrial cancer               1\n",
       " Endometrial adenocarcinoma       1\n",
       " Pulmonary embolism               1\n",
       " Sedation                         1\n",
       " Respiratory depression           1\n",
       " Dependence                       1\n",
       " Coma                             1\n",
       " Name: boxed_warnings, dtype: int64}"
      ]
     },
     "execution_count": 9,
     "metadata": {},
     "output_type": "execute_result"
    }
   ],
   "source": [
    "col_counts"
   ]
  },
  {
   "cell_type": "code",
   "execution_count": 10,
   "id": "531113bd",
   "metadata": {},
   "outputs": [],
   "source": [
    "for col, counts in col_counts.items():\n",
    "    pd.DataFrame.from_dict(counts).to_csv(\n",
    "        '../data/conmed_example_data_by_patient_{}.csv'.format(col), header=False)"
   ]
  }
 ],
 "metadata": {
  "kernelspec": {
   "display_name": "Python 3 (ipykernel)",
   "language": "python",
   "name": "python3"
  },
  "language_info": {
   "codemirror_mode": {
    "name": "ipython",
    "version": 3
   },
   "file_extension": ".py",
   "mimetype": "text/x-python",
   "name": "python",
   "nbconvert_exporter": "python",
   "pygments_lexer": "ipython3",
   "version": "3.9.12"
  }
 },
 "nbformat": 4,
 "nbformat_minor": 5
}
