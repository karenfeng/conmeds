{
 "cells": [
  {
   "cell_type": "code",
   "execution_count": null,
   "id": "ec547c7a",
   "metadata": {},
   "outputs": [],
   "source": [
    "# Author: Karen Feng"
   ]
  },
  {
   "cell_type": "code",
   "execution_count": 13,
   "id": "b9ef274c",
   "metadata": {},
   "outputs": [],
   "source": [
    "import numpy as np\n",
    "import pandas as pd"
   ]
  },
  {
   "cell_type": "code",
   "execution_count": 23,
   "id": "2aaf5e94",
   "metadata": {},
   "outputs": [],
   "source": [
    "pt_meddra_col = 'pt_meddra_id'\n",
    "# pt_meddra_col = 'pt_meddra_term'"
   ]
  },
  {
   "cell_type": "code",
   "execution_count": 43,
   "id": "671e98c8",
   "metadata": {},
   "outputs": [],
   "source": [
    "onsides_adverse_reactions = pd.read_csv(\n",
    "    '../data/onsides_20230309/adverse_reactions_active_labels.csv')[[\n",
    "    'ingredients_rxcuis', pt_meddra_col]].astype('str')\n",
    "onsides_adverse_reactions = onsides_adverse_reactions.groupby(\n",
    "    'ingredients_rxcuis')[pt_meddra_col].apply(set).apply(';'.join).reset_index()\n",
    "onsides_adverse_reactions = onsides_adverse_reactions.rename(columns={pt_meddra_col: 'adverse_reactions'})"
   ]
  },
  {
   "cell_type": "code",
   "execution_count": 44,
   "id": "3207aec5",
   "metadata": {},
   "outputs": [],
   "source": [
    "onsides_boxed_warnings = pd.read_csv(\n",
    "    '../data/onsides_20230309/boxed_warnings_active_labels.csv')[[\n",
    "    'ingredients_rxcuis', pt_meddra_col]].astype('str')\n",
    "onsides_boxed_warnings = onsides_boxed_warnings.groupby(\n",
    "    'ingredients_rxcuis')[pt_meddra_col].apply(set).apply(';'.join).reset_index()\n",
    "onsides_boxed_warnings = onsides_boxed_warnings.rename(columns={pt_meddra_col: 'boxed_warnings'})"
   ]
  },
  {
   "cell_type": "code",
   "execution_count": 45,
   "id": "e45e9b0b",
   "metadata": {},
   "outputs": [],
   "source": [
    "input_df = pd.read_csv(\n",
    "    '../data/conmed_example_data_with_best_rxcuid.csv',\n",
    "    index_col=0, encoding='latin-1').fillna(np.nan).replace([np.nan], [None])"
   ]
  },
  {
   "cell_type": "code",
   "execution_count": 46,
   "id": "67ca85e9",
   "metadata": {},
   "outputs": [],
   "source": [
    "input_df['Best RxNorm Id'] = [\n",
    "    str(int(rxcui)) if rxcui else None for rxcui in input_df['Best RxNorm Id']]"
   ]
  },
  {
   "cell_type": "code",
   "execution_count": 47,
   "id": "4eef3378",
   "metadata": {},
   "outputs": [],
   "source": [
    "onsides = onsides_adverse_reactions.merge(\n",
    "    onsides_boxed_warnings,\n",
    "    how='outer',\n",
    "    on='ingredients_rxcuis')"
   ]
  },
  {
   "cell_type": "code",
   "execution_count": 48,
   "id": "d81d2681",
   "metadata": {},
   "outputs": [],
   "source": [
    "output_df = input_df.merge(\n",
    "    onsides,\n",
    "    how='left',\n",
    "    left_on='Best RxNorm Id',\n",
    "    right_on='ingredients_rxcuis')"
   ]
  },
  {
   "cell_type": "code",
   "execution_count": 49,
   "id": "71726663",
   "metadata": {},
   "outputs": [
    {
     "data": {
      "text/html": [
       "<div>\n",
       "<style scoped>\n",
       "    .dataframe tbody tr th:only-of-type {\n",
       "        vertical-align: middle;\n",
       "    }\n",
       "\n",
       "    .dataframe tbody tr th {\n",
       "        vertical-align: top;\n",
       "    }\n",
       "\n",
       "    .dataframe thead th {\n",
       "        text-align: right;\n",
       "    }\n",
       "</style>\n",
       "<table border=\"1\" class=\"dataframe\">\n",
       "  <thead>\n",
       "    <tr style=\"text-align: right;\">\n",
       "      <th></th>\n",
       "      <th>ingredients_rxcuis</th>\n",
       "      <th>adverse_reactions</th>\n",
       "    </tr>\n",
       "  </thead>\n",
       "  <tbody>\n",
       "    <tr>\n",
       "      <th>0</th>\n",
       "      <td>1000082</td>\n",
       "      <td>10030041;10023644;10012434;10015946;10015993;1...</td>\n",
       "    </tr>\n",
       "    <tr>\n",
       "      <th>1</th>\n",
       "      <td>1005921</td>\n",
       "      <td>10000496;10037844;10000081;10028813;10019211;1...</td>\n",
       "    </tr>\n",
       "    <tr>\n",
       "      <th>2</th>\n",
       "      <td>1006258, 1006297, 1006310, 1014385, 1014391, 1...</td>\n",
       "      <td>10011224;10016825;10024769;10010741;10002199;1...</td>\n",
       "    </tr>\n",
       "    <tr>\n",
       "      <th>3</th>\n",
       "      <td>1006297, 1006506, 1006510, 1010965, 1010971, 1...</td>\n",
       "      <td>10041232;10011224;10015150;10024769;10002199;1...</td>\n",
       "    </tr>\n",
       "    <tr>\n",
       "      <th>4</th>\n",
       "      <td>1006297, 214355, 314324, 314415, 314443, 31448...</td>\n",
       "      <td>10011224;10015150;10024769;10021097;10024855;1...</td>\n",
       "    </tr>\n",
       "    <tr>\n",
       "      <th>...</th>\n",
       "      <td>...</td>\n",
       "      <td>...</td>\n",
       "    </tr>\n",
       "    <tr>\n",
       "      <th>1928</th>\n",
       "      <td>9947</td>\n",
       "      <td>10043554;10040738;10011224;10016766;10036653;1...</td>\n",
       "    </tr>\n",
       "    <tr>\n",
       "      <th>1929</th>\n",
       "      <td>9949</td>\n",
       "      <td>10043554;10038236;10041660;10016825;10020642;1...</td>\n",
       "    </tr>\n",
       "    <tr>\n",
       "      <th>1930</th>\n",
       "      <td>996051</td>\n",
       "      <td>10021333;10034620;10037596;10048959;10040070;1...</td>\n",
       "    </tr>\n",
       "    <tr>\n",
       "      <th>1931</th>\n",
       "      <td>9997</td>\n",
       "      <td>10043554;10073508;10008570;10024264;10019211;1...</td>\n",
       "    </tr>\n",
       "    <tr>\n",
       "      <th>1932</th>\n",
       "      <td>nan</td>\n",
       "      <td>10040738;10041242;10021972;10056866;10061920;1...</td>\n",
       "    </tr>\n",
       "  </tbody>\n",
       "</table>\n",
       "<p>1933 rows × 2 columns</p>\n",
       "</div>"
      ],
      "text/plain": [
       "                                     ingredients_rxcuis  \\\n",
       "0                                               1000082   \n",
       "1                                               1005921   \n",
       "2     1006258, 1006297, 1006310, 1014385, 1014391, 1...   \n",
       "3     1006297, 1006506, 1006510, 1010965, 1010971, 1...   \n",
       "4     1006297, 214355, 314324, 314415, 314443, 31448...   \n",
       "...                                                 ...   \n",
       "1928                                               9947   \n",
       "1929                                               9949   \n",
       "1930                                             996051   \n",
       "1931                                               9997   \n",
       "1932                                                nan   \n",
       "\n",
       "                                      adverse_reactions  \n",
       "0     10030041;10023644;10012434;10015946;10015993;1...  \n",
       "1     10000496;10037844;10000081;10028813;10019211;1...  \n",
       "2     10011224;10016825;10024769;10010741;10002199;1...  \n",
       "3     10041232;10011224;10015150;10024769;10002199;1...  \n",
       "4     10011224;10015150;10024769;10021097;10024855;1...  \n",
       "...                                                 ...  \n",
       "1928  10043554;10040738;10011224;10016766;10036653;1...  \n",
       "1929  10043554;10038236;10041660;10016825;10020642;1...  \n",
       "1930  10021333;10034620;10037596;10048959;10040070;1...  \n",
       "1931  10043554;10073508;10008570;10024264;10019211;1...  \n",
       "1932  10040738;10041242;10021972;10056866;10061920;1...  \n",
       "\n",
       "[1933 rows x 2 columns]"
      ]
     },
     "execution_count": 49,
     "metadata": {},
     "output_type": "execute_result"
    }
   ],
   "source": [
    "onsides_adverse_reactions"
   ]
  },
  {
   "cell_type": "code",
   "execution_count": 22,
   "id": "6f609612",
   "metadata": {},
   "outputs": [],
   "source": [
    "output_df.to_csv('../data/conmed_example_data_with_onsides_ids.csv')"
   ]
  }
 ],
 "metadata": {
  "kernelspec": {
   "display_name": "Python 3 (ipykernel)",
   "language": "python",
   "name": "python3"
  },
  "language_info": {
   "codemirror_mode": {
    "name": "ipython",
    "version": 3
   },
   "file_extension": ".py",
   "mimetype": "text/x-python",
   "name": "python",
   "nbconvert_exporter": "python",
   "pygments_lexer": "ipython3",
   "version": "3.9.12"
  }
 },
 "nbformat": 4,
 "nbformat_minor": 5
}
