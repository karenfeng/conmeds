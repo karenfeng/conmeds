{
 "cells": [
  {
   "cell_type": "code",
   "execution_count": null,
   "id": "5e3691bf",
   "metadata": {},
   "outputs": [],
   "source": [
    "# Author: Karen Feng"
   ]
  },
  {
   "cell_type": "code",
   "execution_count": 1,
   "id": "b24dfbd8",
   "metadata": {},
   "outputs": [],
   "source": [
    "import numpy as np\n",
    "import pandas as pd\n",
    "import requests"
   ]
  },
  {
   "cell_type": "code",
   "execution_count": 2,
   "id": "81a30d9c",
   "metadata": {},
   "outputs": [],
   "source": [
    "def get_normalized_rxnorm_id(term, active_concept=True, exact_match=True, approximate_match=True):\n",
    "    allsrc = 0 if active_concept else 1\n",
    "    if exact_match and approximate_match:\n",
    "        search = 2 # best match\n",
    "    elif approximate_match:\n",
    "        search = 1\n",
    "    elif exact_match:\n",
    "        search = 0\n",
    "    else:\n",
    "        raise Exception('Must use exact and/or approximate match')\n",
    "    api_url = 'https://rxnav.nlm.nih.gov/REST/rxcui.json?name={}&allsrc={}&search={}'.format(\n",
    "        term, allsrc, search)\n",
    "    response = requests.get(api_url)\n",
    "    response_json = response.json()\n",
    "    rxnorm_id_list = response_json['idGroup'].get('rxnormId')\n",
    "    rxnorm_id = rxnorm_id_list[0] if rxnorm_id_list else None\n",
    "    return rxnorm_id\n",
    "\n",
    "def get_approximate_rxnorm_id(term, active_concept=True):\n",
    "    option = 1 if active_concept else 0\n",
    "    api_url = 'https://rxnav.nlm.nih.gov/REST/approximateTerm.json?term={}&maxEntries=1&option={}'.format(\n",
    "        term, option)\n",
    "    response = requests.get(api_url)\n",
    "    response_json = response.json()\n",
    "    candidate_opt = response_json['approximateGroup'].get('candidate')\n",
    "    rxnorm_id = candidate_opt[0]['rxcui'] if candidate_opt else None\n",
    "    return rxnorm_id"
   ]
  },
  {
   "cell_type": "code",
   "execution_count": 3,
   "id": "80087f88",
   "metadata": {},
   "outputs": [],
   "source": [
    "df = pd.read_csv('../data/conmed_example_data.csv').fillna(np.nan).replace([np.nan], [None])\n",
    "df['RXCUI'] = [str(int(rxcui)) if rxcui else None for rxcui in df['RXCUI'] ]"
   ]
  },
  {
   "cell_type": "code",
   "execution_count": 4,
   "id": "99e2657f",
   "metadata": {},
   "outputs": [],
   "source": [
    "df['Normalized RxNorm Id'] = df['Verbatim Term'].apply(get_normalized_rxnorm_id)\n",
    "df['Approximate RxNorm Id'] = df['Verbatim Term'].apply(get_approximate_rxnorm_id)\n",
    "df['Best RxNorm Id'] = df['Normalized RxNorm Id'].combine_first(df['Approximate RxNorm Id'])\n",
    "df['Requires Review'] = df['Normalized RxNorm Id'] != df['Approximate RxNorm Id']"
   ]
  },
  {
   "cell_type": "code",
   "execution_count": 5,
   "id": "b039056a",
   "metadata": {},
   "outputs": [],
   "source": [
    "df.to_csv('../data/conmed_example_data_with_best_rxcuid.csv')"
   ]
  }
 ],
 "metadata": {
  "kernelspec": {
   "display_name": "Python 3 (ipykernel)",
   "language": "python",
   "name": "python3"
  },
  "language_info": {
   "codemirror_mode": {
    "name": "ipython",
    "version": 3
   },
   "file_extension": ".py",
   "mimetype": "text/x-python",
   "name": "python",
   "nbconvert_exporter": "python",
   "pygments_lexer": "ipython3",
   "version": "3.9.12"
  }
 },
 "nbformat": 4,
 "nbformat_minor": 5
}
