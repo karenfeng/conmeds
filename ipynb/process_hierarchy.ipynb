{
 "cells": [
  {
   "cell_type": "code",
   "execution_count": 1,
   "id": "1fd1c3ea",
   "metadata": {},
   "outputs": [],
   "source": [
    "import numpy as np\n",
    "import pandas as pd"
   ]
  },
  {
   "cell_type": "code",
   "execution_count": 2,
   "id": "cdd1ca46",
   "metadata": {},
   "outputs": [],
   "source": [
    "input_df = pd.read_csv(\n",
    "    '../data/conmed_example_data_with_best_rxcuid.csv',\n",
    "    index_col=0).fillna(np.nan).replace([np.nan], [None])"
   ]
  },
  {
   "cell_type": "code",
   "execution_count": 3,
   "id": "6728342c",
   "metadata": {},
   "outputs": [],
   "source": [
    "hierarchy_df = pd.read_csv(\n",
    "    '../data/conmed_example_data_with_hierarchy.csv',\n",
    "    index_col=0).fillna(np.nan).replace([np.nan], [None])"
   ]
  },
  {
   "cell_type": "code",
   "execution_count": 4,
   "id": "5bd5db76",
   "metadata": {},
   "outputs": [],
   "source": [
    "hierarchy_columns = set(hierarchy_df.columns.tolist()) - set(input_df.columns.tolist())"
   ]
  },
  {
   "cell_type": "code",
   "execution_count": 5,
   "id": "c222506a",
   "metadata": {},
   "outputs": [],
   "source": [
    "col_counts = dict()\n",
    "for colname in hierarchy_columns:\n",
    "    hierarchy_df[colname] = hierarchy_df[colname].apply(\n",
    "        lambda x: x.split(';') if x else [''])\n",
    "    indiv = hierarchy_df.groupby('ID').agg({colname: sum})\n",
    "    indiv[colname] = indiv[colname].apply(set)\n",
    "    pool = indiv[colname].explode()\n",
    "    pool_counts = pool.value_counts()\n",
    "    pool_counts = pool_counts.drop('')\n",
    "    col_counts[colname] = pool_counts"
   ]
  },
  {
   "cell_type": "code",
   "execution_count": 6,
   "id": "75623e23",
   "metadata": {},
   "outputs": [],
   "source": [
    "for col, counts in col_counts.items():\n",
    "    pd.DataFrame.from_dict(counts).to_csv(\n",
    "        '../data/conmed_example_data_by_patient_{}.csv'.format(col), header=False)"
   ]
  },
  {
   "cell_type": "code",
   "execution_count": null,
   "id": "a33da0ad",
   "metadata": {},
   "outputs": [],
   "source": []
  }
 ],
 "metadata": {
  "kernelspec": {
   "display_name": "Python 3 (ipykernel)",
   "language": "python",
   "name": "python3"
  },
  "language_info": {
   "codemirror_mode": {
    "name": "ipython",
    "version": 3
   },
   "file_extension": ".py",
   "mimetype": "text/x-python",
   "name": "python",
   "nbconvert_exporter": "python",
   "pygments_lexer": "ipython3",
   "version": "3.9.12"
  }
 },
 "nbformat": 4,
 "nbformat_minor": 5
}
