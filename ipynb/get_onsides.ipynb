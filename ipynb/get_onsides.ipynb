{
 "cells": [
  {
   "cell_type": "code",
   "execution_count": 1,
   "id": "b9ef274c",
   "metadata": {},
   "outputs": [],
   "source": [
    "import numpy as np\n",
    "import pandas as pd"
   ]
  },
  {
   "cell_type": "code",
   "execution_count": 2,
   "id": "671e98c8",
   "metadata": {},
   "outputs": [],
   "source": [
    "onsides_adverse_reactions = pd.read_csv(\n",
    "    '../onsides_20230309/adverse_reactions_active_labels.csv')[['ingredients_rxcuis', 'pt_meddra_term']]\n",
    "onsides_adverse_reactions = onsides_adverse_reactions.groupby(\n",
    "    'ingredients_rxcuis')['pt_meddra_term'].apply(set).apply(';'.join).reset_index()\n",
    "onsides_adverse_reactions = onsides_adverse_reactions.rename(columns={'pt_meddra_term': 'adverse_reactions'})"
   ]
  },
  {
   "cell_type": "code",
   "execution_count": 3,
   "id": "3207aec5",
   "metadata": {},
   "outputs": [],
   "source": [
    "onsides_boxed_warnings = pd.read_csv(\n",
    "    '../onsides_20230309/boxed_warnings_active_labels.csv')[['ingredients_rxcuis', 'pt_meddra_term']]\n",
    "onsides_boxed_warnings = onsides_boxed_warnings.groupby(\n",
    "    'ingredients_rxcuis')['pt_meddra_term'].apply(set).apply(';'.join).reset_index()\n",
    "onsides_boxed_warnings = onsides_boxed_warnings.rename(columns={'pt_meddra_term': 'boxed_warnings'})"
   ]
  },
  {
   "cell_type": "code",
   "execution_count": 4,
   "id": "e45e9b0b",
   "metadata": {},
   "outputs": [],
   "source": [
    "input_df = pd.read_csv(\n",
    "    '../data/conmed_example_data_with_best_rxcuid.csv',\n",
    "    index_col=0).fillna(np.nan).replace([np.nan], [None])"
   ]
  },
  {
   "cell_type": "code",
   "execution_count": 5,
   "id": "67ca85e9",
   "metadata": {},
   "outputs": [],
   "source": [
    "input_df['Best RxNorm Id'] = [\n",
    "    str(int(rxcui)) if rxcui else None for rxcui in input_df['Best RxNorm Id']]"
   ]
  },
  {
   "cell_type": "code",
   "execution_count": 6,
   "id": "4eef3378",
   "metadata": {},
   "outputs": [],
   "source": [
    "onsides = onsides_adverse_reactions.merge(\n",
    "    onsides_boxed_warnings,\n",
    "    how='outer',\n",
    "    on='ingredients_rxcuis')"
   ]
  },
  {
   "cell_type": "code",
   "execution_count": 7,
   "id": "d81d2681",
   "metadata": {},
   "outputs": [],
   "source": [
    "output_df = input_df.merge(\n",
    "    onsides,\n",
    "    how='left',\n",
    "    left_on='Best RxNorm Id',\n",
    "    right_on='ingredients_rxcuis')"
   ]
  },
  {
   "cell_type": "code",
   "execution_count": 8,
   "id": "6f609612",
   "metadata": {},
   "outputs": [],
   "source": [
    "output_df.to_csv('../data/conmed_example_data_with_onsides.csv')"
   ]
  }
 ],
 "metadata": {
  "kernelspec": {
   "display_name": "Python 3 (ipykernel)",
   "language": "python",
   "name": "python3"
  },
  "language_info": {
   "codemirror_mode": {
    "name": "ipython",
    "version": 3
   },
   "file_extension": ".py",
   "mimetype": "text/x-python",
   "name": "python",
   "nbconvert_exporter": "python",
   "pygments_lexer": "ipython3",
   "version": "3.9.12"
  }
 },
 "nbformat": 4,
 "nbformat_minor": 5
}
