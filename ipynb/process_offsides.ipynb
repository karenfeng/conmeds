{
 "cells": [
  {
   "cell_type": "code",
   "execution_count": 1,
   "id": "e52946d9",
   "metadata": {},
   "outputs": [],
   "source": [
    "import numpy as np\n",
    "import pandas as pd"
   ]
  },
  {
   "cell_type": "code",
   "execution_count": 2,
   "id": "f6914d91",
   "metadata": {},
   "outputs": [],
   "source": [
    "offsides_df = pd.read_csv(\n",
    "    '../data/conmed_example_data_with_offsides.csv',\n",
    "    index_col=0).fillna(np.nan).replace([np.nan], [None])"
   ]
  },
  {
   "cell_type": "code",
   "execution_count": 3,
   "id": "637eea65",
   "metadata": {},
   "outputs": [],
   "source": [
    "offsides_df['condition_concept_name'] = offsides_df['condition_concept_name'].apply(\n",
    "    lambda x: x.split(';') if x else [''])\n",
    "indiv = offsides_df.groupby('ID').agg({'condition_concept_name': sum})\n",
    "indiv['condition_concept_name'] = indiv['condition_concept_name'].apply(set)\n",
    "pool = indiv['condition_concept_name'].explode()\n",
    "pool_counts = pool.value_counts()\n",
    "pool_counts = pool_counts.drop('')"
   ]
  },
  {
   "cell_type": "code",
   "execution_count": 4,
   "id": "1903f5ff",
   "metadata": {},
   "outputs": [],
   "source": [
    "pd.DataFrame.from_dict(pool_counts).to_csv(\n",
    "    '../data/conmed_example_data_by_patient_offsides.csv', header=False)"
   ]
  }
 ],
 "metadata": {
  "kernelspec": {
   "display_name": "Python 3 (ipykernel)",
   "language": "python",
   "name": "python3"
  },
  "language_info": {
   "codemirror_mode": {
    "name": "ipython",
    "version": 3
   },
   "file_extension": ".py",
   "mimetype": "text/x-python",
   "name": "python",
   "nbconvert_exporter": "python",
   "pygments_lexer": "ipython3",
   "version": "3.9.12"
  }
 },
 "nbformat": 4,
 "nbformat_minor": 5
}
